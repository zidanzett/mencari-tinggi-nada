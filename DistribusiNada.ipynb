{
  "cells": [
    {
      "cell_type": "markdown",
      "metadata": {
        "id": "nN_I2DCX1GW0"
      },
      "source": [
        " Diberikan data array tangga nada TN dan data array melodi MD yang berisikan urutan notasi lagu yang berjudul ‘Satu Nusa Satu Bangsa’ karangan L. Manik, dengan informasi yang digunakan hanya data nada informasi notasi titik (dotted notes) dikonversikan menjadi angka 0"
      ]
    },
    {
      "cell_type": "markdown",
      "metadata": {
        "id": "JlnQtiVr1xMz"
      },
      "source": [
        "**Tinggi Nada**\n",
        "TN = [0, 1, 2, 3, 4, 5, 6, 7]\n"
      ]
    },
    {
      "attachments": {},
      "cell_type": "markdown",
      "metadata": {
        "id": "ZyHxmmwt1y5p"
      },
      "source": [
        "**Melodi**\n",
        "MD = [5, 0, 5, 6, 5, 3, 1, 0, 1, 2, 1, 6, 5, 1, 2, 3, 1, 2, 3, 2, 0, 5, 0, 5, 6, 5, 3, 1, 0, 1, 2,<br>\n",
        "          1, 6, 5, 1, 2, 3, 1, 2, 7, 1, 0, 2, 0, 3, 2, 1, 7, 6, 5, 0, 4, 4, 3, 3, 4, 3, 2, 0, 5, 0, 5,<br>\n",
        "          6, 5, 3, 1, 0, 1, 2, 1, 6, 5, 1, 2, 3, 1, 2, 7, 1, 0]"
      ]
    },
    {
      "cell_type": "code",
      "execution_count": 2,
      "metadata": {
        "id": "sjEQS0Dc0d32"
      },
      "outputs": [],
      "source": [
        "TN = [0, 1, 2, 3, 4, 5, 6, 7]"
      ]
    },
    {
      "cell_type": "code",
      "execution_count": 3,
      "metadata": {
        "id": "PRRTAG6d0edU"
      },
      "outputs": [],
      "source": [
        "MD = [5, 0, 5, 6, 5, 3, 1, 0, 1, 2, 1, 6, 5, 1, 2, 3, 1, 2, 3, 2, 0, 5, 0, 5, 6, 5, 3, 1, 0, 1, 2, \n",
        "      1, 6, 5, 1, 2, 3, 1, 2, 7, 1, 0, 2, 0, 3, 2, 1, 7, 6, 5, 0, 4, 4, 3, 3, 4, 3, 2, 0, 5, 0, 5, \n",
        "      6, 5, 3, 1, 0, 1, 2, 1, 6, 5, 1, 2, 3, 1, 2, 7, 1, 0]"
      ]
    },
    {
      "cell_type": "markdown",
      "metadata": {
        "id": "cLO_h2fi2Nt3"
      },
      "source": [
        "Untuk menghitung Distribusi Nada, kita membutuhkan variable baru, anggap saja kita beri nama **DN** yang merupakan array dan berisikan 8 elemen karena di dalam Array TN terdapat 8 Tinggi Nada yang sudah dikonversikan. Setiap elemen diberi value 0 integer karena kita akan menghitung ada berapa jumlah nada yang muncul untuk setiap tinggi nadanya pada Array MD."
      ]
    },
    {
      "cell_type": "code",
      "execution_count": 4,
      "metadata": {
        "id": "d3Txwqoe0f_U"
      },
      "outputs": [],
      "source": [
        "DN = [0,0,0,0,0,0,0,0]"
      ]
    },
    {
      "cell_type": "code",
      "execution_count": 5,
      "metadata": {},
      "outputs": [],
      "source": [
        "for i in range(len(TN)):\n",
        "        for j in range(len(MD)):\n",
        "            if MD[j] == TN[i]:\n",
        "                DN[i] += 1"
      ]
    },
    {
      "attachments": {},
      "cell_type": "markdown",
      "metadata": {
        "id": "b8BoR2CZ4XE4"
      },
      "source": [
        "Untuk mencari jumlah Tinggi Nada pada Array **MD** kita perlu melakukan Looping.\n",
        "<br>Untuk melakukan looping ini, yang pertama kita perlu me-loop Array **TN** terlebih dahulu.<br>\n",
        "Dengan kode seperti ini :\n",
        "\n",
        "```\n",
        "for i in range(len(TN)):\n",
        "    for j in range(len(MD)):\n",
        "```\n",
        "Dari kode tersebut, pada saat array **TN** pada index ke-i melakukan loop, maka akan looping ke array **MD**.<br>Tahapanya dapat dilihat seperti ini :<br>\n",
        "<br>TN = [**0**,1,2,3,4,5,6,7]\n",
        "<br>saat loop **TN** berada pada index ke-i (saat ini berada di index ke-0 dengan value 0), akan melakukan looping Array **MD** sejumlah banyaknya elemen pada array **MD**.<br>\n",
        "MD = **[5, 0, 5, 6, 5, 3, 1, 0, 1, 2, 1, 6, 5, 1, 2, 3, 1, 2,<br> 3, 2, 0, 5, 0, 5, 6, 5, 3, 1, 0, 1, 2,\n",
        "      1, 6, 5, 1, 2, 3, 1, 2,<br> 7, 1, 0, 2, 0, 3, 2, 1, 7, 6, 5, 0, 4, 4, 3, 3, 4, 3, 2, 0, 5,<br> 0, 5, \n",
        "      6, 5, 3, 1, 0, 1, 2, 1, 6, 5, 1, 2, 3, 1, 2, 7, 1, 0]**\n",
        "<br>Saat tahap tersebut dilakukan, kita perlu mendefinisikan jika index ke-j pada Array **MD** valuenya sama dengan index ke-i pada Array **TN**, maka index ke-i dari Array **DN** dijumlah 1. Kodenya dapat dilihat seperti berikut :\n",
        "```\n",
        "        if MD[j] == TN[i]:\n",
        "            DN[i] += 1\n",
        "```\n",
        "Array **DN** akan menjadi seperti berikut :\n",
        "<br>DN = [**12**,0,0,0,0,0,0,0]\n",
        "<br>Jika index ke-i (saat ini berada di index ke-0) array **TN** serta semua elemen dari array **MD** sudah di loop, dan if statement sudah dijalankan, maka akan dilanjutkan ke index ke-i selanjutnya yaitu index ke-1.\n",
        "<br>Dari penjelasan tersebut, kita lihat tahapan selanjutnya akan seperti ini :<br>\n",
        "TN[1] = [0, **1**, 2, 3, 4, 5, 6, 7]<br>\n",
        "MD = [5, 0, 5, 6, 5, 3, **1**, 0, **1**, 2, **1**, 6, 5, **1**, 2, 3, **1**, 2,<br> 3, 2, 0, 5, 0, 5, 6, 5, 3, **1**, 0, **1**, 2,\n",
        "      **1**, 6, 5, **1**, 2, 3, **1**, 2,<br> 7, **1**, 0, 2, 0, 3, 2, **1**, 7, 6, 5, 0, 4, 4, 3, 3, 4, 3, 2, 0, 5,<br> 0, 5, \n",
        "      6, 5, 3, **1**, 0, **1**, 2, **1**, 6, 5, **1**, 2, 3, **1**, 2, 7, **1**, 0]<br>\n",
        "DN = [12,**18**,0,0,0,0,0,0]\n",
        "<br><br>\n",
        "TN[2] = [0, 1, **2**, 3, 4, 5, 6, 7]<br>\n",
        "MD = [5, 0, 5, 6, 5, 3, 1, 0, 1, **2**, 1, 6, 5, 1, **2**, 3, 1, **2**,<br> 3, **2**, 0, 5, 0, 5, 6, 5, 3, **1**, 0, **1**, **2**,\n",
        "      1, 6, 5, 1, **2**, 3, 1, **2**,<br> 7, 1, 0, **2**, 0, 3, **2**, 1, 7, 6, 5, 0, 4, 4, 3, 3, 4, 3, **2**, 0, 5,<br> 0, 5, \n",
        "      6, 5, 3, 1, 0, 1, **2**, 1, 6, 5, 1, **2**, 3, 1, **2**, 7, 1, 0]<br>\n",
        "DN = [12,18,**13**,0,0,0,0,0]\n",
        "<br><br>\n",
        "TN[3] = [0, 1, 2, **3**, 4, 5, 6, 7]<br>\n",
        "MD = [5, 0, 5, 6, 5, **3**, 1, 0, 1, 2, 1, 6, 5, 1, 2, **3**, 1, 2,<br> **3**, 2, 0, 5, 0, 5, 6, 5, **3**, 1, 0, 1, 2,\n",
        "      1, 6, 5, 1, 2, **3**, 1, 2,<br> 7, 1, 0, 2, 0, **3**, 2, 1, 7, 6, 5, 0, 4, 4, **3**, **3**, 4, **3**, 2, 0, 5,<br> 0, 5, \n",
        "      6, 5, **3**, 1, 0, 1, 2, 1, 6, 5, 1, 2, **3**, 1, 2, 7, 1, 0]<br>\n",
        "DN = [12, 18, 13, **11**, 0, 0, 0, 0]\n",
        "<br><br>\n",
        "TN[4] = [0, 1, 2, 3, **4**, 5, 6, 7]<br>\n",
        "MD = [5, 0, 5, 6, 5, 3, 1, 0, 1, 2, 1, 6, 5, 1, 2, 3, 1, 2,<br> 3, 2, 0, 5, 0, 5, 6, 5, 3, 1, 0, 1, 2,\n",
        "      1, 6, 5, 1, 2, 3, 1, 2,<br> 7, 1, 0, 2, 0, 3, 2, 1, 7, 6, 5, 0, **4**, **4**, 3, 3, **4**, 3, 2, 0, 5,<br> 0, 5, \n",
        "      6, 5, 3, 1, 0, 1, 2, 1, 6, 5, 1, 2, 3, 1, 2, 7, 1, 0]<br>\n",
        "DN = [12, 18, 13, 11, **3**, 0, 0, 0]\n",
        "<br><br>\n",
        "TN[5] = [0, 1, 2, 3, 4, **5**, 6, 7]<br>\n",
        "MD = [**5**, 0, **5**, 6, **5**, 3, 1, 0, 1, 2, 1, 6, **5**, 1, 2, 3, 1, 2,<br> 3, 2, 0, **5**, 0, **5**, 6, **5**, 3, 1, 0, 1, 2,\n",
        "      1, 6, **5**, 1, 2, 3, 1, 2,<br> 7, 1, 0, 2, 0, 3, 2, 1, 7, 6, **5**, 0, 4, 4, 3, 3, 4, 3, 2, 0, **5**,<br> 0, **5**, \n",
        "      6, **5**, 3, 1, 0, 1, 2, 1, 6, **5**, 1, 2, 3, 1, 2, 7, 1, 0]<br>\n",
        "DN = [12, 18, 13, 11, 3, **13**, 0, 0]\n",
        "<br><br>\n",
        "TN[6] = [0, 1, 2, 3, 4, 5, **6**, 7]<br>\n",
        "MD = [5, 0, 5, **6**, 5, 3, 1, 0, 1, 2, 1, **6**, 5, 1, 2, 3, 1, 2,<br> 3, 2, 0, 5, 0, 5, **6**, 5, 3, 1, 0, 1, 2,\n",
        "      1, **6**, 5, 1, 2, 3, 1, 2,<br> 7, 1, 0, 2, 0, 3, 2, 1, 7, **6**, 5, 0, 4, 4, 3, 3, 4, 3, 2, 0, 5,<br> 0, 5, \n",
        "      **6**, 5, 3, 1, 0, 1, 2, 1, **6**, 5, 1, 2, 3, 1, 2, 7, 1, 0]<br>\n",
        "DN = [12, 18, 13, 11, 3, 13, **7**, 0]\n",
        "<br><br>\n",
        "TN[7] = [0, 1, 2, 3, 4, 5, 6, **7**]<br>\n",
        "MD = [5, 0, 5, 6, 5, 3, 1, 0, 1, 2, 1, 6, 5, 1, 2, 3, 1, 2,<br> 3, 2, 0, 5, 0, 5, 6, 5, 3, 1, 0, 1, 2,\n",
        "      1, 6, 5, 1, 2, 3, 1, 2,<br> **7**, 1, 0, 2, 0, 3, 2, 1, **7**, 6, 5, 0, 4, 4, 3, 3, 4, 3, 2, 0, 5,<br> 0, 5, \n",
        "      6, 5, 3, 1, 0, 1, 2, 1, 6, 5, 1, 2, 3, 1, 2, **7**, 1, 0]<br>\n",
        "DN = [12, 18, 13, 11, 3, 13, 7, **3**]"
      ]
    },
    {
      "cell_type": "code",
      "execution_count": 6,
      "metadata": {
        "id": "AeMn8Xbi43_r"
      },
      "outputs": [
        {
          "data": {
            "text/plain": [
              "[12, 18, 13, 11, 3, 13, 7, 3]"
            ]
          },
          "execution_count": 6,
          "metadata": {},
          "output_type": "execute_result"
        }
      ],
      "source": [
        "DN"
      ]
    }
  ],
  "metadata": {
    "colab": {
      "provenance": []
    },
    "kernelspec": {
      "display_name": "Python 3",
      "language": "python",
      "name": "python3"
    },
    "language_info": {
      "codemirror_mode": {
        "name": "ipython",
        "version": 3
      },
      "file_extension": ".py",
      "mimetype": "text/x-python",
      "name": "python",
      "nbconvert_exporter": "python",
      "pygments_lexer": "ipython3",
      "version": "3.11.0 (main, Oct 24 2022, 18:26:48) [MSC v.1933 64 bit (AMD64)]"
    },
    "vscode": {
      "interpreter": {
        "hash": "4a2182e50f174ecae36dd9662d3bd8089a0380401155c775c75aee147f6e53a7"
      }
    }
  },
  "nbformat": 4,
  "nbformat_minor": 0
}
